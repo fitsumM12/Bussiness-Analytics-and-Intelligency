{
  "nbformat": 4,
  "nbformat_minor": 0,
  "metadata": {
    "colab": {
      "name": "KNN.ipynb",
      "provenance": []
    },
    "kernelspec": {
      "name": "python3",
      "display_name": "Python 3"
    },
    "language_info": {
      "name": "python"
    }
  },
  "cells": [
    {
      "cell_type": "code",
      "execution_count": null,
      "metadata": {
        "id": "-MAi66UdYFej"
      },
      "outputs": [],
      "source": [
        "\"\"\"\n",
        "name: Fitsum Mesfin\n",
        "Rollno: 2164005\n",
        "\"\"\"\n",
        "from math import sqrt"
      ]
    },
    {
      "cell_type": "code",
      "source": [
        "# given dataset\n",
        "dataset = [\n",
        "           [51, 167, 0],\n",
        "           [62, 182, 1],\n",
        "           [69, 176, 1],\n",
        "           [64, 173, 1],\n",
        "           [56, 174, 0],\n",
        "           [58, 169, 1],\n",
        "           [57, 173, 1],\n",
        "           [55, 170, 1],\n",
        "           [53, 173, 0]\n",
        "]"
      ],
      "metadata": {
        "id": "ZF1xPNbhZZQc"
      },
      "execution_count": null,
      "outputs": []
    },
    {
      "cell_type": "code",
      "source": [
        "data_tobe_tested = dataset[-1]"
      ],
      "metadata": {
        "id": "XucEcU_za2TU"
      },
      "execution_count": null,
      "outputs": []
    },
    {
      "cell_type": "code",
      "source": [
        "# calculate the Euclidean distance between two vectors\n",
        "def euclidean_distance(data1, data2):\n",
        "\tdistance = 0.0\n",
        "\tfor i in range(len(data1)-1):\n",
        "\t\tdistance += (data1[i] - data2[i])**2\n",
        "\treturn sqrt(distance)"
      ],
      "metadata": {
        "id": "8XR-UuxxZTkx"
      },
      "execution_count": null,
      "outputs": []
    },
    {
      "cell_type": "code",
      "source": [
        "# Locate the most similar neighbors\n",
        "def KNN_Classifier(train, test_row, num_neighbors):\n",
        "  distances = list()\n",
        "  for train_row in train:\n",
        "    dist = euclidean_distance(test_row, train_row)\n",
        "    distances.append((train_row, dist))\n",
        "  distances.sort()\n",
        "  neighbors = list()\n",
        "  for i in range(num_neighbors):\n",
        "    neighbors.append(distances[i][0])\n",
        "  return neighbors"
      ],
      "metadata": {
        "id": "yWMsvj85dF0P"
      },
      "execution_count": null,
      "outputs": []
    },
    {
      "cell_type": "code",
      "source": [
        "# Make a classification prediction with neighbors\n",
        "def predict_classification(train, test_row, num_neighbors):\n",
        "\tneighbors = KNN_Classifier(train, test_row, num_neighbors)\n",
        "\toutput_values = [row[-1] for row in neighbors]\n",
        "\tprediction = max(set(output_values), key=output_values.count)\n",
        "\treturn prediction "
      ],
      "metadata": {
        "id": "uvCa_w7bbrK2"
      },
      "execution_count": null,
      "outputs": []
    },
    {
      "cell_type": "code",
      "source": [
        "prediction = predict_classification(dataset, dataset[-1], 3)\n",
        "print('Expected %d, Got %d.' % (dataset[-1][-1], prediction))\n"
      ],
      "metadata": {
        "colab": {
          "base_uri": "https://localhost:8080/"
        },
        "id": "7x00cSZTb1g6",
        "outputId": "3be3efe6-f2f9-4dd0-f358-01fbbe7cf57b"
      },
      "execution_count": null,
      "outputs": [
        {
          "output_type": "stream",
          "name": "stdout",
          "text": [
            "Expected 0, Got 0.\n"
          ]
        }
      ]
    },
    {
      "cell_type": "code",
      "source": [
        ""
      ],
      "metadata": {
        "id": "b9S27DrygYr7"
      },
      "execution_count": null,
      "outputs": []
    }
  ]
}